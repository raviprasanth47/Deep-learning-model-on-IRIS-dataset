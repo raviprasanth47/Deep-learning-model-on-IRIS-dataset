{
 "cells": [
  {
   "cell_type": "code",
   "execution_count": 0,
   "metadata": {
    "colab": {},
    "colab_type": "code",
    "id": "fTRE2HeP4z1x"
   },
   "outputs": [],
   "source": [
    "import pandas as pd\n",
    "import numpy as np\n",
    "import tensorflow as tf\n",
    "from sklearn import datasets\n"
   ]
  },
  {
   "cell_type": "code",
   "execution_count": 0,
   "metadata": {
    "colab": {},
    "colab_type": "code",
    "id": "RyaW4Wnz5-Hk"
   },
   "outputs": [],
   "source": [
    "iris=datasets.load_iris()\n",
    "X=iris.data\n",
    "Y=iris.target"
   ]
  },
  {
   "cell_type": "code",
   "execution_count": 5,
   "metadata": {
    "colab": {
     "base_uri": "https://localhost:8080/",
     "height": 55
    },
    "colab_type": "code",
    "id": "Gf1v4AVA_Zk1",
    "outputId": "c4b995c2-3eb7-4dec-c4df-f8b41720dce2"
   },
   "outputs": [
    {
     "name": "stdout",
     "output_type": "stream",
     "text": [
      "(150, 4)\n",
      "(150,)\n"
     ]
    }
   ],
   "source": [
    "print(X.shape)\n",
    "print(Y.shape)"
   ]
  },
  {
   "cell_type": "code",
   "execution_count": 0,
   "metadata": {
    "colab": {},
    "colab_type": "code",
    "id": "d5Lhjp_CAq1q"
   },
   "outputs": [],
   "source": [
    "\n",
    "from sklearn.model_selection import train_test_split\n",
    "\n",
    "from sklearn.preprocessing import OneHotEncoder\n"
   ]
  },
  {
   "cell_type": "code",
   "execution_count": 10,
   "metadata": {
    "colab": {
     "base_uri": "https://localhost:8080/",
     "height": 55
    },
    "colab_type": "code",
    "id": "UMdyGH_PBjRo",
    "outputId": "2a88b7ad-aaf2-4dd9-9eda-c2f851c41528"
   },
   "outputs": [
    {
     "name": "stdout",
     "output_type": "stream",
     "text": [
      "(120, 4)\n",
      "(120,)\n"
     ]
    }
   ],
   "source": [
    "X_train,X_test,Y_train,Y_test=train_test_split(X,Y,test_size=0.20,stratify=Y,random_state=1)\n",
    "print(X_train.shape)\n",
    "print(Y_train.shape)"
   ]
  },
  {
   "cell_type": "code",
   "execution_count": 11,
   "metadata": {
    "colab": {
     "base_uri": "https://localhost:8080/",
     "height": 113
    },
    "colab_type": "code",
    "id": "opShYlR2Bgwq",
    "outputId": "2cb5db92-fde8-4d89-a684-207da159fc4e"
   },
   "outputs": [
    {
     "name": "stderr",
     "output_type": "stream",
     "text": [
      "/usr/local/lib/python3.6/dist-packages/sklearn/preprocessing/_encoders.py:415: FutureWarning: The handling of integer data will change in version 0.22. Currently, the categories are determined based on the range [0, max(values)], while in the future they will be determined based on the unique values.\n",
      "If you want the future behaviour and silence this warning, you can specify \"categories='auto'\".\n",
      "In case you used a LabelEncoder before this OneHotEncoder to convert the categories to integers, then you can now use the OneHotEncoder directly.\n",
      "  warnings.warn(msg, FutureWarning)\n"
     ]
    }
   ],
   "source": [
    "# One hot encoding 'y'\n",
    "encoder=OneHotEncoder()\n",
    "y_train_ohe=encoder.fit_transform(Y_train.reshape(-1, 1))\n",
    "y_test_ohe=encoder.transform(Y_test.reshape(-1, 1))\n",
    "y_train_ohe=y_train_ohe.toarray()\n",
    "y_test_ohe=y_test_ohe.toarray()"
   ]
  },
  {
   "cell_type": "code",
   "execution_count": 12,
   "metadata": {
    "colab": {
     "base_uri": "https://localhost:8080/",
     "height": 36
    },
    "colab_type": "code",
    "id": "L40W-9wcCENv",
    "outputId": "3dc7f640-2729-4c6a-8c36-535cf8de1460"
   },
   "outputs": [
    {
     "data": {
      "text/plain": [
       "array([1., 0., 0.])"
      ]
     },
     "execution_count": 12,
     "metadata": {
      "tags": []
     },
     "output_type": "execute_result"
    }
   ],
   "source": [
    "y_train_ohe[0]"
   ]
  },
  {
   "cell_type": "code",
   "execution_count": 13,
   "metadata": {
    "colab": {
     "base_uri": "https://localhost:8080/",
     "height": 36
    },
    "colab_type": "code",
    "id": "Jqx5umuZCONd",
    "outputId": "c040db60-6cde-441f-8aa1-f7013d3a14be"
   },
   "outputs": [
    {
     "data": {
      "text/plain": [
       "array([0., 0., 1.])"
      ]
     },
     "execution_count": 13,
     "metadata": {
      "tags": []
     },
     "output_type": "execute_result"
    }
   ],
   "source": [
    "y_test_ohe[0]"
   ]
  },
  {
   "cell_type": "code",
   "execution_count": 0,
   "metadata": {
    "colab": {},
    "colab_type": "code",
    "id": "MrcFcNpPCRd0"
   },
   "outputs": [],
   "source": [
    "import keras\n",
    "from keras.layers import Dense,LSTM,Input,Flatten,Dropout\n",
    "from keras.models import Model"
   ]
  },
  {
   "cell_type": "code",
   "execution_count": 0,
   "metadata": {
    "colab": {},
    "colab_type": "code",
    "id": "k-cxBBFmCimN"
   },
   "outputs": [],
   "source": [
    "# clearing the previous session\n",
    "tf.keras.backend.clear_session()\n",
    "# Defining the model\n",
    "# Input layer\n",
    "input_layer=Input(shape=(4,),name='iris')\n",
    "# layer 1\n",
    "layer_1=Dense(units=32,activation='relu',kernel_initializer='he_normal',name='layer1')(input_layer)\n",
    "# layer 2\n",
    "layer_2=Dense(units=16,activation='relu',kernel_initializer='he_normal',name='layer2')(layer_1)\n",
    "# layer 3\n",
    "output_layer=Dense(units=3,activation='softmax',kernel_initializer='glorot_uniform',name='output')(layer_2)"
   ]
  },
  {
   "cell_type": "code",
   "execution_count": 33,
   "metadata": {
    "colab": {
     "base_uri": "https://localhost:8080/",
     "height": 75
    },
    "colab_type": "code",
    "id": "tvvbSfj9GJkP",
    "outputId": "a7ad79a3-0b21-4d10-81f2-dbda93597253"
   },
   "outputs": [
    {
     "name": "stderr",
     "output_type": "stream",
     "text": [
      "/usr/local/lib/python3.6/dist-packages/ipykernel_launcher.py:1: UserWarning: Update your `Model` call to the Keras 2 API: `Model(outputs=Tensor(\"ou..., inputs=Tensor(\"ir...)`\n",
      "  \"\"\"Entry point for launching an IPython kernel.\n"
     ]
    }
   ],
   "source": [
    "model=Model(input=input_layer,outputs=output_layer)"
   ]
  },
  {
   "cell_type": "code",
   "execution_count": 34,
   "metadata": {
    "colab": {
     "base_uri": "https://localhost:8080/",
     "height": 322
    },
    "colab_type": "code",
    "id": "K2roJYOzGg9u",
    "outputId": "f0c933d4-687d-4c34-e04c-f696d7e22939"
   },
   "outputs": [
    {
     "name": "stdout",
     "output_type": "stream",
     "text": [
      "Model: \"model_1\"\n",
      "_________________________________________________________________\n",
      "Layer (type)                 Output Shape              Param #   \n",
      "=================================================================\n",
      "iris (InputLayer)            (None, 4)                 0         \n",
      "_________________________________________________________________\n",
      "layer1 (Dense)               (None, 32)                160       \n",
      "_________________________________________________________________\n",
      "layer2 (Dense)               (None, 16)                528       \n",
      "_________________________________________________________________\n",
      "output (Dense)               (None, 3)                 51        \n",
      "=================================================================\n",
      "Total params: 739\n",
      "Trainable params: 739\n",
      "Non-trainable params: 0\n",
      "_________________________________________________________________\n"
     ]
    }
   ],
   "source": [
    "model.summary()"
   ]
  },
  {
   "cell_type": "code",
   "execution_count": 0,
   "metadata": {
    "colab": {},
    "colab_type": "code",
    "id": "FK4PQANmGoZ-"
   },
   "outputs": [],
   "source": [
    "# Defining the loss and optimizer\n",
    "\n",
    "rmsprop=keras.optimizers.RMSprop(lr=0.01, rho=0.9, epsilon=None, decay=0.0)\n",
    "# Compiling the model\n",
    "model.compile(optimizer=rmsprop,loss='categorical_crossentropy',metrics=['accuracy'])"
   ]
  },
  {
   "cell_type": "code",
   "execution_count": 43,
   "metadata": {
    "colab": {
     "base_uri": "https://localhost:8080/",
     "height": 245
    },
    "colab_type": "code",
    "id": "LQzhvDqmIAcc",
    "outputId": "981303d9-b73d-4263-b3ea-a6e9b97e2b0e"
   },
   "outputs": [
    {
     "name": "stdout",
     "output_type": "stream",
     "text": [
      "Train on 120 samples, validate on 30 samples\n",
      "Epoch 1/5\n",
      "120/120 [==============================] - 0s 198us/step - loss: 0.1536 - acc: 0.9500 - val_loss: 0.1096 - val_acc: 1.0000\n",
      "Epoch 2/5\n",
      "120/120 [==============================] - 0s 122us/step - loss: 0.1474 - acc: 0.9583 - val_loss: 0.1074 - val_acc: 1.0000\n",
      "Epoch 3/5\n",
      "120/120 [==============================] - 0s 212us/step - loss: 0.1475 - acc: 0.9667 - val_loss: 0.1058 - val_acc: 1.0000\n",
      "Epoch 4/5\n",
      "120/120 [==============================] - 0s 136us/step - loss: 0.1412 - acc: 0.9667 - val_loss: 0.1052 - val_acc: 1.0000\n",
      "Epoch 5/5\n",
      "120/120 [==============================] - 0s 134us/step - loss: 0.1478 - acc: 0.9667 - val_loss: 0.1025 - val_acc: 1.0000\n"
     ]
    },
    {
     "data": {
      "text/plain": [
       "<keras.callbacks.History at 0x7fa499c1abe0>"
      ]
     },
     "execution_count": 43,
     "metadata": {
      "tags": []
     },
     "output_type": "execute_result"
    }
   ],
   "source": [
    "# Fitting the model\n",
    "model.fit(X_train,y_train_ohe,validation_data=(X_test,y_test_ohe),epochs=5,batch_size=16)"
   ]
  },
  {
   "cell_type": "code",
   "execution_count": 0,
   "metadata": {
    "colab": {},
    "colab_type": "code",
    "id": "tmPogUxvIn2Z"
   },
   "outputs": [],
   "source": []
  }
 ],
 "metadata": {
  "colab": {
   "name": "Deeplearning.ipynb",
   "provenance": [],
   "version": "0.3.2"
  },
  "kernelspec": {
   "display_name": "Python 3",
   "language": "python",
   "name": "python3"
  },
  "language_info": {
   "codemirror_mode": {
    "name": "ipython",
    "version": 3
   },
   "file_extension": ".py",
   "mimetype": "text/x-python",
   "name": "python",
   "nbconvert_exporter": "python",
   "pygments_lexer": "ipython3",
   "version": "3.7.3"
  }
 },
 "nbformat": 4,
 "nbformat_minor": 1
}
